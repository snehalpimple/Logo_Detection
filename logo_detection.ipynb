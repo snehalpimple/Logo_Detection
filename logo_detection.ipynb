{
 "cells": [
  {
   "cell_type": "code",
   "execution_count": 90,
   "metadata": {},
   "outputs": [],
   "source": [
    "import matplotlib.pyplot as plt\n",
    "import seaborn as sns\n",
    "\n",
    "import keras\n",
    "from keras.models import Sequential\n",
    "from keras.layers import Dense, Conv2D , MaxPool2D , Flatten , Dropout \n",
    "from keras.preprocessing.image import ImageDataGenerator, array_to_img, img_to_array, load_img\n",
    "from keras.optimizers import Adam\n",
    "\n",
    "from sklearn.metrics import classification_report,confusion_matrix\n",
    "\n",
    "import tensorflow as tf\n",
    "\n",
    "import cv2\n",
    "import os\n",
    "\n",
    "import numpy as np\n"
   ]
  },
  {
   "cell_type": "code",
   "execution_count": 91,
   "metadata": {},
   "outputs": [
    {
     "name": "stdout",
     "output_type": "stream",
     "text": [
      "C:\\Users\\ksankhe\\OneDrive - Qualcomm\\Documents\\Personal\\SnehalProject\\Job\\Eluvio\\dataset_car_logo\\Train\n",
      "C:\\Users\\ksankhe\\OneDrive - Qualcomm\\Documents\\Personal\\SnehalProject\\Job\\Eluvio\\dataset_car_logo\\Test\n"
     ]
    }
   ],
   "source": [
    "# to get data\n",
    "base_folder_path = r'C:\\Users\\snehalpimple\\Documents\\Personal\\Project\\Eluvio'\n",
    "train_path = os.path.join(base_folder_path, 'dataset_car_logo\\Train')\n",
    "print(train_path)\n",
    "test_path = os.path.join(base_folder_path, 'dataset_car_logo\\Test')\n",
    "print(test_path)"
   ]
  },
  {
   "cell_type": "code",
   "execution_count": 92,
   "metadata": {},
   "outputs": [
    {
     "name": "stdout",
     "output_type": "stream",
     "text": [
      "['Acura', 'Audi', 'BMW', 'Chevrolet', 'Ford', 'Honda', 'Hyundai', 'Infiniti', 'KIA', 'Lamborghini', 'Lexus', 'Mazda', 'MercedesBenz', 'Nissan', 'Porsche', 'Tesla', 'Toyota', 'Volkswagen']\n",
      "Count of Train Images:\n",
      "Acura Train:50\n",
      "Audi Train:50\n",
      "BMW Train:50\n",
      "Chevrolet Train:50\n",
      "Ford Train:50\n",
      "Honda Train:50\n",
      "Hyundai Train:50\n",
      "Infiniti Train:50\n",
      "KIA Train:48\n",
      "Lamborghini Train:50\n",
      "Lexus Train:50\n",
      "Mazda Train:50\n",
      "MercedesBenz Train:50\n",
      "Nissan Train:49\n",
      "Porsche Train:50\n",
      "Tesla Train:50\n",
      "Toyota Train:50\n",
      "Volkswagen Train:50\n",
      "Count of Test Images:\n",
      "Acura Test:6\n",
      "Audi Test:5\n",
      "BMW Test:6\n",
      "Chevrolet Test:5\n",
      "Ford Test:6\n",
      "Honda Test:7\n",
      "Hyundai Test:7\n",
      "Infiniti Test:5\n",
      "KIA Test:5\n",
      "Lamborghini Test:5\n",
      "Lexus Test:5\n",
      "Mazda Test:7\n",
      "MercedesBenz Test:5\n",
      "Nissan Test:5\n",
      "Porsche Test:5\n",
      "Tesla Test:6\n",
      "Toyota Test:9\n",
      "Volkswagen Test:6\n"
     ]
    }
   ],
   "source": [
    "class_names = os.listdir(train_path)\n",
    "print(class_names)\n",
    "\n",
    "print('Count of Train Images:')\n",
    "for i in class_names:\n",
    "    print(i +' Train'+ ':' + str(len(os.listdir(os.path.join(train_path, i)))))\n",
    "\n",
    "    \n",
    "print('Count of Test Images:')\n",
    "for i in class_names:\n",
    "    print(i +' Test'+ ':' + str(len(os.listdir(os.path.join(test_path, i)))))"
   ]
  },
  {
   "cell_type": "code",
   "execution_count": 72,
   "metadata": {},
   "outputs": [],
   "source": [
    "# datagen = ImageDataGenerator(\n",
    "#         rotation_range=40,\n",
    "#         width_shift_range=0.2,\n",
    "#         height_shift_range=0.2,\n",
    "#         shear_range=0.2,\n",
    "#         zoom_range=0.2,\n",
    "#         horizontal_flip=True,\n",
    "#         fill_mode='nearest')\n",
    "\n",
    "# print(train_path)\n",
    "# img = load_img(train_path+'\\\\Acura\\\\0.jpg')  # this is a PIL image\n",
    "# x = img_to_array(img)  # this is a Numpy array with shape (3, 150, 150)\n",
    "# x = x.reshape((1,) + x.shape)  # this is a Numpy array with shape (1, 3, 150, 150)\n",
    "\n",
    "# # the .flow() command below generates batches of randomly transformed images\n",
    "# # and saves the results to the `preview/` directory\n",
    "# i = 0\n",
    "# for batch in datagen.flow(x, batch_size=1,\n",
    "#                           save_to_dir=base_folder_path + '\\\\dataset_car_logo\\\\Preview', save_prefix='cat', save_format='jpeg'):\n",
    "#     i += 1\n",
    "#     if i > 20:\n",
    "#         break  # otherwise the generator would loop indefinitely"
   ]
  },
  {
   "cell_type": "code",
   "execution_count": 93,
   "metadata": {},
   "outputs": [
    {
     "name": "stdout",
     "output_type": "stream",
     "text": [
      "Found 897 images belonging to 18 classes.\n",
      "Found 105 images belonging to 18 classes.\n"
     ]
    }
   ],
   "source": [
    "batch_size = 32\n",
    "img_size = 150\n",
    "\n",
    "# this is the augmentation configuration we will use for training\n",
    "train_datagen = ImageDataGenerator(\n",
    "        rescale=1./255, rotation_range=30,\n",
    "         zoom_range=0.2,\n",
    "         width_shift_range=0.2,\n",
    "         height_shift_range=0.2)\n",
    "\n",
    "# this is the augmentation configuration we will use for testing:\n",
    "# only rescaling\n",
    "test_datagen = ImageDataGenerator(rescale=1./255) #,\n",
    "#         shear_range=0.2,\n",
    "#         zoom_range=0.2,\n",
    "#         width_shift_range=0.2,\n",
    "#         height_shift_range=0.2,\n",
    "#         shear_range=0.2,\n",
    "#         zoom_range=0.2,\n",
    "#         horizontal_flip=True,\n",
    "#         fill_mode='nearest')\n",
    "\n",
    "# this is a generator that will read pictures found in\n",
    "# subfolers of 'data/train', and indefinitely generate\n",
    "# batches of augmented image data\n",
    "train_generator = train_datagen.flow_from_directory(\n",
    "        train_path,  # this is the target directory\n",
    "        target_size=(img_size, img_size),  # all images will be resized to 150x150\n",
    "        color_mode='rgb',\n",
    "        batch_size=batch_size,\n",
    "        class_mode='categorical')  # since we use binary_crossentropy loss, we need binary labels\n",
    "\n",
    "# this is a similar generator, for validation data\n",
    "validation_generator = test_datagen.flow_from_directory(\n",
    "        test_path,\n",
    "        target_size=(img_size, img_size),\n",
    "        color_mode='rgb',\n",
    "        batch_size=batch_size,\n",
    "        class_mode='categorical')"
   ]
  },
  {
   "cell_type": "code",
   "execution_count": 94,
   "metadata": {},
   "outputs": [
    {
     "name": "stdout",
     "output_type": "stream",
     "text": [
      "Model: \"sequential_15\"\n",
      "_________________________________________________________________\n",
      "Layer (type)                 Output Shape              Param #   \n",
      "=================================================================\n",
      "conv2d_45 (Conv2D)           (None, 150, 150, 32)      896       \n",
      "_________________________________________________________________\n",
      "max_pooling2d_45 (MaxPooling (None, 75, 75, 32)        0         \n",
      "_________________________________________________________________\n",
      "dropout_17 (Dropout)         (None, 75, 75, 32)        0         \n",
      "_________________________________________________________________\n",
      "conv2d_46 (Conv2D)           (None, 75, 75, 32)        9248      \n",
      "_________________________________________________________________\n",
      "max_pooling2d_46 (MaxPooling (None, 37, 37, 32)        0         \n",
      "_________________________________________________________________\n",
      "dropout_18 (Dropout)         (None, 37, 37, 32)        0         \n",
      "_________________________________________________________________\n",
      "conv2d_47 (Conv2D)           (None, 37, 37, 64)        18496     \n",
      "_________________________________________________________________\n",
      "max_pooling2d_47 (MaxPooling (None, 18, 18, 64)        0         \n",
      "_________________________________________________________________\n",
      "dropout_19 (Dropout)         (None, 18, 18, 64)        0         \n",
      "_________________________________________________________________\n",
      "flatten_15 (Flatten)         (None, 20736)             0         \n",
      "_________________________________________________________________\n",
      "dense_34 (Dense)             (None, 256)               5308672   \n",
      "_________________________________________________________________\n",
      "dense_35 (Dense)             (None, 80)                20560     \n",
      "_________________________________________________________________\n",
      "dense_36 (Dense)             (None, 18)                1458      \n",
      "=================================================================\n",
      "Total params: 5,359,330\n",
      "Trainable params: 5,359,330\n",
      "Non-trainable params: 0\n",
      "_________________________________________________________________\n"
     ]
    }
   ],
   "source": [
    "model = Sequential()\n",
    "model.add(Conv2D(32, (3,3),padding=\"same\", activation=\"relu\", input_shape=(img_size,img_size,3), data_format='channels_last'))\n",
    "model.add(MaxPool2D(2,2))\n",
    "model.add(Dropout(0.25))\n",
    "model.add(Conv2D(32, (3,3), padding=\"same\", activation=\"relu\"))\n",
    "model.add(MaxPool2D(2,2))\n",
    "model.add(Dropout(0.5))\n",
    "model.add(Conv2D(64, (3,3), padding=\"same\", activation=\"relu\"))\n",
    "model.add(MaxPool2D(2,2))\n",
    "model.add(Dropout(0.5))\n",
    "model.add(Flatten())\n",
    "model.add(Dense(256,activation=\"relu\"))\n",
    "model.add(Dense(80,activation=\"relu\"))\n",
    "model.add(Dense(len(class_names), activation=\"softmax\"))\n",
    "\n",
    "model.summary()"
   ]
  },
  {
   "cell_type": "code",
   "execution_count": 95,
   "metadata": {},
   "outputs": [
    {
     "name": "stdout",
     "output_type": "stream",
     "text": [
      "Epoch 1/100\n",
      "28/28 [==============================] - 22s 758ms/step - loss: 2.9426 - accuracy: 0.0575 - val_loss: 2.8880 - val_accuracy: 0.0729\n",
      "Epoch 2/100\n",
      "28/28 [==============================] - 25s 883ms/step - loss: 2.9014 - accuracy: 0.0620 - val_loss: 2.8869 - val_accuracy: 0.0521\n",
      "Epoch 3/100\n",
      "28/28 [==============================] - 24s 844ms/step - loss: 2.8949 - accuracy: 0.0640 - val_loss: 2.8890 - val_accuracy: 0.0625\n",
      "Epoch 4/100\n",
      "28/28 [==============================] - 25s 876ms/step - loss: 2.8879 - accuracy: 0.0732 - val_loss: 2.8890 - val_accuracy: 0.0521\n",
      "Epoch 5/100\n",
      "28/28 [==============================] - 23s 824ms/step - loss: 2.8964 - accuracy: 0.0702 - val_loss: 2.8866 - val_accuracy: 0.0833\n",
      "Epoch 6/100\n",
      "28/28 [==============================] - 24s 859ms/step - loss: 2.8811 - accuracy: 0.0679 - val_loss: 2.8880 - val_accuracy: 0.0938\n",
      "Epoch 7/100\n",
      "28/28 [==============================] - 24s 850ms/step - loss: 2.8844 - accuracy: 0.0592 - val_loss: 2.8912 - val_accuracy: 0.0417\n",
      "Epoch 8/100\n",
      "28/28 [==============================] - 25s 897ms/step - loss: 2.8857 - accuracy: 0.0516 - val_loss: 2.8852 - val_accuracy: 0.0729\n",
      "Epoch 9/100\n",
      "28/28 [==============================] - 22s 765ms/step - loss: 2.8694 - accuracy: 0.0835 - val_loss: 2.8813 - val_accuracy: 0.0729\n",
      "Epoch 10/100\n",
      "28/28 [==============================] - 21s 750ms/step - loss: 2.8672 - accuracy: 0.0633 - val_loss: 2.8743 - val_accuracy: 0.1042\n",
      "Epoch 11/100\n",
      "28/28 [==============================] - 22s 783ms/step - loss: 2.8358 - accuracy: 0.0853 - val_loss: 2.8747 - val_accuracy: 0.0833\n",
      "Epoch 12/100\n",
      "28/28 [==============================] - 22s 779ms/step - loss: 2.7991 - accuracy: 0.1006 - val_loss: 2.8592 - val_accuracy: 0.1042\n",
      "Epoch 13/100\n",
      "28/28 [==============================] - 23s 828ms/step - loss: 2.7480 - accuracy: 0.1195 - val_loss: 2.8747 - val_accuracy: 0.1042\n",
      "Epoch 14/100\n",
      "28/28 [==============================] - 24s 846ms/step - loss: 2.7427 - accuracy: 0.1298 - val_loss: 2.8539 - val_accuracy: 0.1146\n",
      "Epoch 15/100\n",
      "28/28 [==============================] - 26s 939ms/step - loss: 2.6978 - accuracy: 0.1261 - val_loss: 2.8482 - val_accuracy: 0.1458\n",
      "Epoch 16/100\n",
      "28/28 [==============================] - 22s 801ms/step - loss: 2.6435 - accuracy: 0.1543 - val_loss: 2.8200 - val_accuracy: 0.1250\n",
      "Epoch 17/100\n",
      "28/28 [==============================] - 22s 782ms/step - loss: 2.6564 - accuracy: 0.1421 - val_loss: 2.8477 - val_accuracy: 0.1042\n",
      "Epoch 18/100\n",
      "28/28 [==============================] - 24s 881ms/step - loss: 2.5911 - accuracy: 0.1266 - val_loss: 2.8162 - val_accuracy: 0.1250\n",
      "Epoch 19/100\n",
      "28/28 [==============================] - 22s 793ms/step - loss: 2.6109 - accuracy: 0.1477 - val_loss: 2.8046 - val_accuracy: 0.1458\n",
      "Epoch 20/100\n",
      "28/28 [==============================] - 25s 897ms/step - loss: 2.6037 - accuracy: 0.1571 - val_loss: 2.8388 - val_accuracy: 0.1562\n",
      "Epoch 21/100\n",
      "28/28 [==============================] - 24s 839ms/step - loss: 2.6041 - accuracy: 0.1473 - val_loss: 2.8187 - val_accuracy: 0.1458\n",
      "Epoch 22/100\n",
      "28/28 [==============================] - 23s 837ms/step - loss: 2.5814 - accuracy: 0.1701 - val_loss: 2.7911 - val_accuracy: 0.1667\n",
      "Epoch 23/100\n",
      "28/28 [==============================] - 28s 1s/step - loss: 2.6012 - accuracy: 0.1823 - val_loss: 2.8257 - val_accuracy: 0.1146\n",
      "Epoch 24/100\n",
      "28/28 [==============================] - 25s 899ms/step - loss: 2.5729 - accuracy: 0.1569 - val_loss: 2.7796 - val_accuracy: 0.1875\n",
      "Epoch 25/100\n",
      "28/28 [==============================] - 24s 866ms/step - loss: 2.5645 - accuracy: 0.1825 - val_loss: 2.7853 - val_accuracy: 0.1875\n",
      "Epoch 26/100\n",
      "28/28 [==============================] - 27s 944ms/step - loss: 2.5163 - accuracy: 0.1768 - val_loss: 2.7694 - val_accuracy: 0.1458\n",
      "Epoch 27/100\n",
      "28/28 [==============================] - 27s 969ms/step - loss: 2.5446 - accuracy: 0.1735 - val_loss: 2.8200 - val_accuracy: 0.1458\n",
      "Epoch 28/100\n",
      "28/28 [==============================] - 28s 974ms/step - loss: 2.5581 - accuracy: 0.1661 - val_loss: 2.7450 - val_accuracy: 0.1875\n",
      "Epoch 29/100\n",
      "28/28 [==============================] - 28s 1s/step - loss: 2.4769 - accuracy: 0.1998 - val_loss: 2.7996 - val_accuracy: 0.1771\n",
      "Epoch 30/100\n",
      "28/28 [==============================] - 27s 951ms/step - loss: 2.4292 - accuracy: 0.2559 - val_loss: 2.7492 - val_accuracy: 0.1979\n",
      "Epoch 31/100\n",
      "28/28 [==============================] - 29s 1s/step - loss: 2.4367 - accuracy: 0.2244 - val_loss: 2.7987 - val_accuracy: 0.1458\n",
      "Epoch 32/100\n",
      "28/28 [==============================] - 28s 980ms/step - loss: 2.4497 - accuracy: 0.2075 - val_loss: 2.8222 - val_accuracy: 0.1667\n",
      "Epoch 33/100\n",
      "28/28 [==============================] - 26s 932ms/step - loss: 2.4622 - accuracy: 0.1975 - val_loss: 2.7976 - val_accuracy: 0.2083\n",
      "Epoch 34/100\n",
      "28/28 [==============================] - 27s 979ms/step - loss: 2.4321 - accuracy: 0.2412 - val_loss: 2.7332 - val_accuracy: 0.2188\n",
      "Epoch 35/100\n",
      "28/28 [==============================] - 25s 883ms/step - loss: 2.4048 - accuracy: 0.2259 - val_loss: 2.7545 - val_accuracy: 0.1979\n",
      "Epoch 36/100\n",
      "28/28 [==============================] - 24s 865ms/step - loss: 2.4088 - accuracy: 0.2093 - val_loss: 2.7768 - val_accuracy: 0.1875\n",
      "Epoch 37/100\n",
      "28/28 [==============================] - 24s 852ms/step - loss: 2.3818 - accuracy: 0.2494 - val_loss: 2.7343 - val_accuracy: 0.1562\n",
      "Epoch 38/100\n",
      "28/28 [==============================] - 26s 939ms/step - loss: 2.3969 - accuracy: 0.2174 - val_loss: 2.7023 - val_accuracy: 0.1771\n",
      "Epoch 39/100\n",
      "28/28 [==============================] - 28s 1s/step - loss: 2.3388 - accuracy: 0.2612 - val_loss: 2.7407 - val_accuracy: 0.1875\n",
      "Epoch 40/100\n",
      "28/28 [==============================] - 28s 1s/step - loss: 2.3800 - accuracy: 0.2475 - val_loss: 2.7908 - val_accuracy: 0.1146\n",
      "Epoch 41/100\n",
      "28/28 [==============================] - 27s 961ms/step - loss: 2.3603 - accuracy: 0.2303 - val_loss: 2.7320 - val_accuracy: 0.2083\n",
      "Epoch 42/100\n",
      "28/28 [==============================] - 26s 911ms/step - loss: 2.3402 - accuracy: 0.2565 - val_loss: 2.7567 - val_accuracy: 0.2083\n",
      "Epoch 43/100\n",
      "28/28 [==============================] - 24s 849ms/step - loss: 2.3321 - accuracy: 0.2352 - val_loss: 2.7000 - val_accuracy: 0.2083\n",
      "Epoch 44/100\n",
      "28/28 [==============================] - 24s 840ms/step - loss: 2.2272 - accuracy: 0.2822 - val_loss: 2.7564 - val_accuracy: 0.1771\n",
      "Epoch 45/100\n",
      "28/28 [==============================] - 23s 862ms/step - loss: 2.3239 - accuracy: 0.2658 - val_loss: 2.7071 - val_accuracy: 0.1875\n",
      "Epoch 46/100\n",
      "28/28 [==============================] - 25s 887ms/step - loss: 2.2736 - accuracy: 0.2610 - val_loss: 2.7461 - val_accuracy: 0.1875\n",
      "Epoch 47/100\n",
      "28/28 [==============================] - 23s 826ms/step - loss: 2.2348 - accuracy: 0.2817 - val_loss: 2.8153 - val_accuracy: 0.1562\n",
      "Epoch 48/100\n",
      "28/28 [==============================] - 23s 800ms/step - loss: 2.2850 - accuracy: 0.2653 - val_loss: 2.8285 - val_accuracy: 0.2083\n",
      "Epoch 49/100\n",
      "28/28 [==============================] - 24s 864ms/step - loss: 2.2947 - accuracy: 0.2740 - val_loss: 2.8236 - val_accuracy: 0.1562\n",
      "Epoch 50/100\n",
      "28/28 [==============================] - 24s 840ms/step - loss: 2.2393 - accuracy: 0.2812 - val_loss: 2.7877 - val_accuracy: 0.1771\n",
      "Epoch 51/100\n",
      "28/28 [==============================] - 25s 877ms/step - loss: 2.2561 - accuracy: 0.2738 - val_loss: 2.7741 - val_accuracy: 0.2083\n",
      "Epoch 52/100\n",
      "28/28 [==============================] - 23s 839ms/step - loss: 2.2667 - accuracy: 0.2619 - val_loss: 2.7173 - val_accuracy: 0.1667\n",
      "Epoch 53/100\n",
      "28/28 [==============================] - 23s 822ms/step - loss: 2.2013 - accuracy: 0.3203 - val_loss: 2.7702 - val_accuracy: 0.1979\n",
      "Epoch 54/100\n",
      "28/28 [==============================] - 24s 847ms/step - loss: 2.1839 - accuracy: 0.2837 - val_loss: 2.6958 - val_accuracy: 0.2188\n",
      "Epoch 55/100\n",
      "28/28 [==============================] - 24s 840ms/step - loss: 2.1689 - accuracy: 0.3252 - val_loss: 2.7586 - val_accuracy: 0.1875\n",
      "Epoch 56/100\n",
      "28/28 [==============================] - 24s 873ms/step - loss: 2.2212 - accuracy: 0.2927 - val_loss: 2.7758 - val_accuracy: 0.2083\n",
      "Epoch 57/100\n",
      "28/28 [==============================] - 24s 848ms/step - loss: 2.2564 - accuracy: 0.2996 - val_loss: 2.7592 - val_accuracy: 0.2188\n"
     ]
    },
    {
     "name": "stdout",
     "output_type": "stream",
     "text": [
      "Epoch 58/100\n",
      "28/28 [==============================] - 23s 814ms/step - loss: 2.1593 - accuracy: 0.2895 - val_loss: 2.7703 - val_accuracy: 0.1979\n",
      "Epoch 59/100\n",
      "28/28 [==============================] - 23s 834ms/step - loss: 2.1874 - accuracy: 0.2994 - val_loss: 2.7675 - val_accuracy: 0.1979\n",
      "Epoch 60/100\n",
      "28/28 [==============================] - 23s 820ms/step - loss: 2.1038 - accuracy: 0.3222 - val_loss: 2.8713 - val_accuracy: 0.1875\n",
      "Epoch 61/100\n",
      "28/28 [==============================] - 25s 885ms/step - loss: 2.1544 - accuracy: 0.3117 - val_loss: 2.8549 - val_accuracy: 0.1875\n",
      "Epoch 62/100\n",
      "28/28 [==============================] - 24s 847ms/step - loss: 2.1241 - accuracy: 0.3350 - val_loss: 2.8041 - val_accuracy: 0.2083\n",
      "Epoch 63/100\n",
      "28/28 [==============================] - 24s 842ms/step - loss: 2.1670 - accuracy: 0.3205 - val_loss: 2.8157 - val_accuracy: 0.1875\n",
      "Epoch 64/100\n",
      "28/28 [==============================] - 24s 841ms/step - loss: 2.1756 - accuracy: 0.3098 - val_loss: 2.7758 - val_accuracy: 0.2188\n",
      "Epoch 65/100\n",
      "28/28 [==============================] - 25s 882ms/step - loss: 2.1581 - accuracy: 0.3084 - val_loss: 2.8105 - val_accuracy: 0.2292\n",
      "Epoch 66/100\n",
      "28/28 [==============================] - 28s 978ms/step - loss: 2.1105 - accuracy: 0.3181 - val_loss: 2.7796 - val_accuracy: 0.2188\n",
      "Epoch 67/100\n",
      "28/28 [==============================] - 25s 898ms/step - loss: 2.1072 - accuracy: 0.3429 - val_loss: 2.8014 - val_accuracy: 0.2292\n",
      "Epoch 68/100\n",
      "28/28 [==============================] - 24s 860ms/step - loss: 2.0598 - accuracy: 0.3549 - val_loss: 2.8028 - val_accuracy: 0.2083\n",
      "Epoch 69/100\n",
      "28/28 [==============================] - 27s 974ms/step - loss: 2.1582 - accuracy: 0.2844 - val_loss: 2.6880 - val_accuracy: 0.2292\n",
      "Epoch 70/100\n",
      "28/28 [==============================] - 26s 927ms/step - loss: 2.0606 - accuracy: 0.3404 - val_loss: 2.7337 - val_accuracy: 0.1875\n",
      "Epoch 71/100\n",
      "28/28 [==============================] - 27s 952ms/step - loss: 2.1255 - accuracy: 0.2917 - val_loss: 2.8193 - val_accuracy: 0.1771\n",
      "Epoch 72/100\n",
      "28/28 [==============================] - 24s 870ms/step - loss: 2.0723 - accuracy: 0.3219 - val_loss: 2.8185 - val_accuracy: 0.1667\n",
      "Epoch 73/100\n",
      "28/28 [==============================] - 24s 864ms/step - loss: 2.0138 - accuracy: 0.3641 - val_loss: 2.8809 - val_accuracy: 0.1979\n",
      "Epoch 74/100\n",
      "28/28 [==============================] - 25s 883ms/step - loss: 2.1399 - accuracy: 0.3238 - val_loss: 2.8133 - val_accuracy: 0.2083\n",
      "Epoch 75/100\n",
      "28/28 [==============================] - 26s 939ms/step - loss: 2.0207 - accuracy: 0.3267 - val_loss: 2.7240 - val_accuracy: 0.1979\n",
      "Epoch 76/100\n",
      "28/28 [==============================] - 25s 898ms/step - loss: 2.0540 - accuracy: 0.3463 - val_loss: 2.8378 - val_accuracy: 0.1979\n",
      "Epoch 77/100\n",
      "28/28 [==============================] - 25s 888ms/step - loss: 2.0910 - accuracy: 0.3401 - val_loss: 2.7830 - val_accuracy: 0.2083\n",
      "Epoch 78/100\n",
      "28/28 [==============================] - 25s 890ms/step - loss: 2.0371 - accuracy: 0.3620 - val_loss: 2.7007 - val_accuracy: 0.2083\n",
      "Epoch 79/100\n",
      "28/28 [==============================] - 24s 864ms/step - loss: 2.1005 - accuracy: 0.3555 - val_loss: 2.8277 - val_accuracy: 0.2083\n",
      "Epoch 80/100\n",
      "28/28 [==============================] - 25s 897ms/step - loss: 2.0069 - accuracy: 0.3605 - val_loss: 2.8039 - val_accuracy: 0.1875\n",
      "Epoch 81/100\n",
      "28/28 [==============================] - 23s 830ms/step - loss: 2.0572 - accuracy: 0.3619 - val_loss: 2.8856 - val_accuracy: 0.2083\n",
      "Epoch 82/100\n",
      "28/28 [==============================] - 24s 866ms/step - loss: 2.0536 - accuracy: 0.3436 - val_loss: 2.8630 - val_accuracy: 0.2083\n",
      "Epoch 83/100\n",
      "28/28 [==============================] - 24s 865ms/step - loss: 2.0014 - accuracy: 0.3581 - val_loss: 2.7025 - val_accuracy: 0.2500\n",
      "Epoch 84/100\n",
      "28/28 [==============================] - 24s 867ms/step - loss: 2.0587 - accuracy: 0.3200 - val_loss: 2.8308 - val_accuracy: 0.1875\n",
      "Epoch 85/100\n",
      "28/28 [==============================] - 25s 902ms/step - loss: 1.9967 - accuracy: 0.3594 - val_loss: 2.8269 - val_accuracy: 0.1875\n",
      "Epoch 86/100\n",
      "28/28 [==============================] - 25s 881ms/step - loss: 1.9733 - accuracy: 0.3574 - val_loss: 2.8323 - val_accuracy: 0.2292\n",
      "Epoch 87/100\n",
      "28/28 [==============================] - 24s 857ms/step - loss: 2.0018 - accuracy: 0.3637 - val_loss: 2.6900 - val_accuracy: 0.2500\n",
      "Epoch 88/100\n",
      "28/28 [==============================] - 24s 843ms/step - loss: 2.0458 - accuracy: 0.3772 - val_loss: 2.7935 - val_accuracy: 0.2083\n",
      "Epoch 89/100\n",
      "28/28 [==============================] - 24s 823ms/step - loss: 2.0079 - accuracy: 0.3450 - val_loss: 2.7772 - val_accuracy: 0.2188\n",
      "Epoch 90/100\n",
      "28/28 [==============================] - 25s 891ms/step - loss: 1.9071 - accuracy: 0.3870 - val_loss: 2.7812 - val_accuracy: 0.1875\n",
      "Epoch 91/100\n",
      "28/28 [==============================] - 23s 808ms/step - loss: 1.9844 - accuracy: 0.3459 - val_loss: 2.8369 - val_accuracy: 0.2188\n",
      "Epoch 92/100\n",
      "28/28 [==============================] - 23s 812ms/step - loss: 1.9820 - accuracy: 0.3658 - val_loss: 2.7129 - val_accuracy: 0.2188\n",
      "Epoch 93/100\n",
      "28/28 [==============================] - 24s 863ms/step - loss: 2.0534 - accuracy: 0.3338 - val_loss: 2.8102 - val_accuracy: 0.2292\n",
      "Epoch 94/100\n",
      "28/28 [==============================] - 26s 933ms/step - loss: 2.0565 - accuracy: 0.3606 - val_loss: 2.8962 - val_accuracy: 0.1771\n",
      "Epoch 95/100\n",
      "28/28 [==============================] - 25s 889ms/step - loss: 1.9811 - accuracy: 0.3815 - val_loss: 2.7711 - val_accuracy: 0.1771\n",
      "Epoch 96/100\n",
      "28/28 [==============================] - 23s 834ms/step - loss: 1.9002 - accuracy: 0.3718 - val_loss: 2.9011 - val_accuracy: 0.1875\n",
      "Epoch 97/100\n",
      "28/28 [==============================] - 24s 872ms/step - loss: 1.9468 - accuracy: 0.3742 - val_loss: 2.8787 - val_accuracy: 0.2083\n",
      "Epoch 98/100\n",
      "28/28 [==============================] - 24s 866ms/step - loss: 1.9202 - accuracy: 0.3777 - val_loss: 2.9040 - val_accuracy: 0.1979\n",
      "Epoch 99/100\n",
      "28/28 [==============================] - 24s 852ms/step - loss: 1.8626 - accuracy: 0.4468 - val_loss: 2.8548 - val_accuracy: 0.1979\n",
      "Epoch 100/100\n",
      "28/28 [==============================] - 28s 1s/step - loss: 1.9198 - accuracy: 0.3792 - val_loss: 2.7260 - val_accuracy: 0.2188\n"
     ]
    }
   ],
   "source": [
    "opt = Adam(lr=0.0001)\n",
    "model.compile(optimizer = opt , loss = tf.keras.losses.CategoricalCrossentropy(from_logits=True) , metrics = ['accuracy'])\n",
    "history = model.fit(train_generator, steps_per_epoch=900//batch_size, epochs = 100 , validation_data = validation_generator, validation_steps=105//batch_size)"
   ]
  },
  {
   "cell_type": "code",
   "execution_count": null,
   "metadata": {},
   "outputs": [],
   "source": []
  },
  {
   "cell_type": "code",
   "execution_count": 99,
   "metadata": {},
   "outputs": [
    {
     "data": {
      "image/png": "[encoded data removed]",
      "text/plain": [
       "<Figure size 720x720 with 1 Axes>"
      ]
     },
     "metadata": {
      "needs_background": "light"
     },
     "output_type": "display_data"
    },
    {
     "data": {
      "image/png": "[encoded data removed]",
      "text/plain": [
       "<Figure size 720x720 with 1 Axes>"
      ]
     },
     "metadata": {
      "needs_background": "light"
     },
     "output_type": "display_data"
    }
   ],
   "source": [
    "acc = history.history['accuracy']\n",
    "val_acc = history.history['val_accuracy']\n",
    "loss = history.history['loss']\n",
    "val_loss = history.history['val_loss']\n",
    "\n",
    "epochs_range = range(100)\n",
    "\n",
    "plt.figure(figsize=(10, 10))\n",
    "#plt.subplot(2, 2, 1)\n",
    "plt.plot(epochs_range, acc, label='Training Accuracy')\n",
    "plt.plot(epochs_range, val_acc, label='Testing Accuracy')\n",
    "plt.ylim(0.0, 1.0)\n",
    "plt.legend(loc='lower right', prop={\"size\":20})\n",
    "plt.xlabel('Epochs', size = 20)\n",
    "plt.ylabel('Accuracy', size = 20)\n",
    "plt.title('Training and Testing Accuracy', fontsize=20)\n",
    "plt.savefig('accuracy_augment.png')\n",
    "\n",
    "#plt.subplot(2, 2, 2)\n",
    "plt.figure(figsize=(10, 10))\n",
    "plt.plot(epochs_range, loss, label='Training Loss')\n",
    "plt.plot(epochs_range, val_loss, label='Testing Loss')\n",
    "plt.ylim(0.0, 4.0)\n",
    "plt.legend(loc='upper right',  prop={\"size\":20})\n",
    "plt.xlabel('Epochs', size = 20)\n",
    "plt.ylabel('Loss', size = 20)\n",
    "plt.title('Training and Testing Loss', fontsize=20)\n",
    "plt.savefig('loss_augment.png')\n",
    "\n",
    "plt.show()"
   ]
  },
  {
   "cell_type": "code",
   "execution_count": null,
   "metadata": {},
   "outputs": [],
   "source": []
  },
  {
   "cell_type": "code",
   "execution_count": 155,
   "metadata": {},
   "outputs": [],
   "source": []
  },
  {
   "cell_type": "code",
   "execution_count": null,
   "metadata": {},
   "outputs": [],
   "source": []
  },
  {
   "cell_type": "code",
   "execution_count": 163,
   "metadata": {},
   "outputs": [],
   "source": []
  },
  {
   "cell_type": "code",
   "execution_count": 164,
   "metadata": {},
   "outputs": [],
   "source": []
  },
  {
   "cell_type": "code",
   "execution_count": null,
   "metadata": {},
   "outputs": [],
   "source": []
  },
  {
   "cell_type": "code",
   "execution_count": 167,
   "metadata": {},
   "outputs": [],
   "source": []
  },
  {
   "cell_type": "code",
   "execution_count": null,
   "metadata": {},
   "outputs": [],
   "source": []
  },
  {
   "cell_type": "code",
   "execution_count": null,
   "metadata": {},
   "outputs": [],
   "source": []
  },
  {
   "cell_type": "code",
   "execution_count": null,
   "metadata": {},
   "outputs": [],
   "source": []
  },
  {
   "cell_type": "code",
   "execution_count": null,
   "metadata": {},
   "outputs": [],
   "source": []
  },
  {
   "cell_type": "code",
   "execution_count": null,
   "metadata": {},
   "outputs": [],
   "source": []
  },
  {
   "cell_type": "code",
   "execution_count": null,
   "metadata": {},
   "outputs": [],
   "source": []
  },
  {
   "cell_type": "code",
   "execution_count": null,
   "metadata": {},
   "outputs": [],
   "source": []
  },
  {
   "cell_type": "code",
   "execution_count": null,
   "metadata": {},
   "outputs": [],
   "source": []
  },
  {
   "cell_type": "code",
   "execution_count": null,
   "metadata": {},
   "outputs": [],
   "source": []
  },
  {
   "cell_type": "code",
   "execution_count": null,
   "metadata": {},
   "outputs": [],
   "source": []
  },
  {
   "cell_type": "code",
   "execution_count": null,
   "metadata": {},
   "outputs": [],
   "source": []
  },
  {
   "cell_type": "code",
   "execution_count": 137,
   "metadata": {},
   "outputs": [],
   "source": [
    "\n"
   ]
  },
  {
   "cell_type": "code",
   "execution_count": 138,
   "metadata": {},
   "outputs": [],
   "source": [
    "    "
   ]
  },
  {
   "cell_type": "code",
   "execution_count": null,
   "metadata": {},
   "outputs": [],
   "source": []
  },
  {
   "cell_type": "code",
   "execution_count": null,
   "metadata": {},
   "outputs": [],
   "source": []
  },
  {
   "cell_type": "code",
   "execution_count": null,
   "metadata": {},
   "outputs": [],
   "source": []
  },
  {
   "cell_type": "code",
   "execution_count": null,
   "metadata": {},
   "outputs": [],
   "source": []
  }
 ],
 "metadata": {
  "kernelspec": {
   "display_name": "Python 3",
   "language": "python",
   "name": "python3"
  },
  "language_info": {
   "codemirror_mode": {
    "name": "ipython",
    "version": 3
   },
   "file_extension": ".py",
   "mimetype": "text/x-python",
   "name": "python",
   "nbconvert_exporter": "python",
   "pygments_lexer": "ipython3",
   "version": "3.8.3"
  }
 },
 "nbformat": 4,
 "nbformat_minor": 4
}
